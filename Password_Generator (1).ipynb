{
  "nbformat": 4,
  "nbformat_minor": 0,
  "metadata": {
    "colab": {
      "provenance": []
    },
    "kernelspec": {
      "name": "python3",
      "display_name": "Python 3"
    },
    "language_info": {
      "name": "python"
    }
  },
  "cells": [
    {
      "cell_type": "code",
      "source": [
        "import random\n",
        "import string\n",
        "\n",
        "def generate_password(length, use_special_chars, use_numbers):\n",
        "    characters = string.ascii_letters\n",
        "    if use_special_chars:\n",
        "        characters += string.punctuation\n",
        "    if use_numbers:\n",
        "        characters += string.digits\n",
        "\n",
        "    password = ''.join(random.choice(characters) for _ in range(length))\n",
        "    return password\n",
        "\n",
        "def generate_multiple_passwords(num_passwords, min_length, max_length, use_special_chars, use_numbers):\n",
        "    passwords = []\n",
        "    for _ in range(num_passwords):\n",
        "        length = random.randint(min_length, max_length)\n",
        "        password = generate_password(length, use_special_chars, use_numbers)\n",
        "        passwords.append(password)\n",
        "    return passwords\n",
        "\n",
        "def main():\n",
        "    print(\"Password Generator\")\n",
        "    num_passwords = int(input(\"Enter the number of passwords to generate: \"))\n",
        "    min_length = int(input(\"Enter the minimum password length: \"))\n",
        "    max_length = int(input(\"Enter the maximum password length: \"))\n",
        "    use_special_chars = input(\"Include special characters (yes/no): \").lower() == \"yes\"\n",
        "    use_numbers = input(\"Include numbers (yes/no): \").lower() == \"yes\"\n",
        "\n",
        "    passwords = generate_multiple_passwords(num_passwords, min_length, max_length, use_special_chars, use_numbers)\n",
        "\n",
        "    print(\"\\nGenerated Passwords:\")\n",
        "    for i, password in enumerate(passwords, 1):\n",
        "        print(f\"Password {i}: {password}\")\n",
        "\n",
        "if __name__ == \"__main__\":\n",
        "    main()\n"
      ],
      "metadata": {
        "colab": {
          "base_uri": "https://localhost:8080/"
        },
        "id": "j5SZ7KwxmMKx",
        "outputId": "bcc33bc4-fa35-40d8-ce06-e19c646033fc"
      },
      "execution_count": 4,
      "outputs": [
        {
          "output_type": "stream",
          "name": "stdout",
          "text": [
            "Password Generator\n",
            "Enter the number of passwords to generate: 30\n",
            "Enter the minimum password length: 15\n",
            "Enter the maximum password length: 25\n",
            "Include special characters (yes/no): no\n",
            "Include numbers (yes/no): yes\n",
            "\n",
            "Generated Passwords:\n",
            "Password 1: bf2bhY1ULZSpQO2LpHhDKrtv\n",
            "Password 2: KjAa3sWve1pKFP2f7k4pkP\n",
            "Password 3: 1RGzbFsNZzShmWhG\n",
            "Password 4: WNuYjEdwXT7ohqSVV2N49PMSK\n",
            "Password 5: lyfowinKxACjaAtvO\n",
            "Password 6: 7vz5wetSMScmdKs\n",
            "Password 7: WiVOAu5Btcww1Xbvy\n",
            "Password 8: gLdSZqrR46eNkSUxW2Y04KC\n",
            "Password 9: zBqKyCd47sqHCWo\n",
            "Password 10: cqrbjjxTOy2afLyv9wwfTFFYT\n",
            "Password 11: 0Up3vBcLU4ywmH1ZjAKQA\n",
            "Password 12: VO85wYv00NQcd3BT0JzHsq\n",
            "Password 13: A6lSpqiFopxFzEmjwA7kHzWY\n",
            "Password 14: y1G1hYRzr7XiltHWJLKk61\n",
            "Password 15: 49ML1yY8TcKG3AE\n",
            "Password 16: 2eqwIuriDME0j5pA1wSg\n",
            "Password 17: vpZRiULMqD2M0Pu3v9\n",
            "Password 18: lKJkXQF0Ciy2dmL760rUGM8Lp\n",
            "Password 19: amlpo2ECK3Qztjs4Da\n",
            "Password 20: Is2XhP39bFdBsdVQ1I99DXV8c\n",
            "Password 21: z8L4CgQyWp8W8sNX2DjqqHlPU\n",
            "Password 22: an2rwews9jzCQ2C\n",
            "Password 23: YZ6Ak4nkTKmdKCiWeEO\n",
            "Password 24: SE7oo50GsMwlLIxWnfqOOc0\n",
            "Password 25: NxfSivqqcriBRqLd4nYi\n",
            "Password 26: cgBMbuSrFWbUhdako\n",
            "Password 27: KZ8jrhBmqoSPjrCHjvcbn\n",
            "Password 28: fQbEY260a6biq1yW22wwJA1l\n",
            "Password 29: Qekb2Etuz7AMlILQ\n",
            "Password 30: uAKJrOOEMbAQJxMCznsij6l\n"
          ]
        }
      ]
    }
  ]
}