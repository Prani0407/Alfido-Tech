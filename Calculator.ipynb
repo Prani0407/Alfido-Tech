{
  "nbformat": 4,
  "nbformat_minor": 0,
  "metadata": {
    "colab": {
      "provenance": []
    },
    "kernelspec": {
      "name": "python3",
      "display_name": "Python 3"
    },
    "language_info": {
      "name": "python"
    }
  },
  "cells": [
    {
      "cell_type": "code",
      "source": [
        "import math"
      ],
      "metadata": {
        "id": "jyvSCvBSFKCE"
      },
      "execution_count": null,
      "outputs": []
    },
    {
      "cell_type": "markdown",
      "source": [
        "# Dictionary to store results"
      ],
      "metadata": {
        "id": "JFx0tAyTFSNN"
      }
    },
    {
      "cell_type": "code",
      "source": [
        "results = {}"
      ],
      "metadata": {
        "id": "DQPBJntFFOme"
      },
      "execution_count": null,
      "outputs": []
    },
    {
      "cell_type": "markdown",
      "source": [
        "#List of functions"
      ],
      "metadata": {
        "id": "1wEVbClSFc-7"
      }
    },
    {
      "cell_type": "code",
      "source": [
        "# Function to add two numbers\n",
        "def add(x, y):\n",
        "    return x + y\n",
        "\n",
        "# Function to subtract two numbers\n",
        "def subtract(x, y):\n",
        "    return x - y\n",
        "\n",
        "# Function to multiply two numbers\n",
        "def multiply(x, y):\n",
        "    return x * y\n",
        "\n",
        "# Function to divide two numbers\n",
        "def divide(x, y):\n",
        "    if y == 0:\n",
        "        return \"Cannot divide by zero\"\n",
        "    return x / y\n",
        "\n",
        "# Function to calculate the square of a number\n",
        "def square(x):\n",
        "    return x ** 2\n",
        "\n",
        "# Function to calculate the square root of a number\n",
        "def square_root(x):\n",
        "    if x < 0:\n",
        "        return \"Invalid input\"\n",
        "    return math.sqrt(x)\n",
        "\n",
        "# Function to calculate x raised to the power of y\n",
        "def power(x, y):\n",
        "    return x ** y"
      ],
      "metadata": {
        "id": "EWKGceVmF04g"
      },
      "execution_count": null,
      "outputs": []
    },
    {
      "cell_type": "markdown",
      "source": [
        "# Main calculator loop"
      ],
      "metadata": {
        "id": "TzqUyDLNF5z2"
      }
    },
    {
      "cell_type": "code",
      "source": [
        "while True:\n",
        "    print(\"Options:\")\n",
        "    print(\"1. Addition\")\n",
        "    print(\"2. Subtraction\")\n",
        "    print(\"3. Multiplication\")\n",
        "    print(\"4. Division\")\n",
        "    print(\"5. Square\")\n",
        "    print(\"6. Square Root\")\n",
        "    print(\"7. Power\")\n",
        "    print(\"8. Store Result\")\n",
        "    print(\"9. Recall Result\")\n",
        "    print(\"10. Quit\")\n",
        "\n",
        "    choice = input(\"Enter the number for your choice: \")\n",
        "\n",
        "    if choice == \"10\":\n",
        "        break\n",
        "    elif choice in (\"1\", \"2\", \"3\", \"4\", \"5\", \"6\", \"7\"):\n",
        "        if choice in (\"1\", \"2\", \"3\", \"4\", \"7\"):\n",
        "            num1 = float(input(\"Enter the first number: \"))\n",
        "            num2 = float(input(\"Enter the second number: \"))\n",
        "        else:\n",
        "            num1 = float(input(\"Enter a number: \"))\n",
        "\n",
        "        if choice == \"1\":\n",
        "            result = add(num1, num2)\n",
        "        elif choice == \"2\":\n",
        "            result = subtract(num1, num2)\n",
        "        elif choice == \"3\":\n",
        "            result = multiply(num1, num2)\n",
        "        elif choice == \"4\":\n",
        "            result = divide(num1, num2)\n",
        "        elif choice == \"5\":\n",
        "            result = square(num1)\n",
        "        elif choice == \"6\":\n",
        "            result = square_root(num1)\n",
        "        elif choice == \"7\":\n",
        "            power_exp = float(input(\"Enter the exponent: \"))\n",
        "            result = power(num1, power_exp)\n",
        "\n",
        "        print(\"Result:\", result)\n",
        "        results[choice] = result\n",
        "\n",
        "    elif choice == \"8\":\n",
        "        key = input(\"Enter a key to store the result: \")\n",
        "        if key in results:\n",
        "            print(\"Key already exists. Overwriting.\")\n",
        "        results[key] = result\n",
        "        print(\"Result stored with key:\", key)\n",
        "\n",
        "    elif choice == \"9\":\n",
        "        key = input(\"Enter the key to recall the result: \")\n",
        "        if key in results:\n",
        "            print(\"Recalled result:\", results[key])\n",
        "        else:\n",
        "            print(\"Key not found.\")\n",
        "    else:\n",
        "        print(\"Invalid input. Please enter a valid option.\")\n"
      ],
      "metadata": {
        "colab": {
          "base_uri": "https://localhost:8080/"
        },
        "id": "8rBuYROrkqdt",
        "outputId": "ff239f53-e99c-4804-dc33-fbdd2fc9f2af"
      },
      "execution_count": null,
      "outputs": [
        {
          "name": "stdout",
          "output_type": "stream",
          "text": [
            "Options:\n",
            "1. Addition\n",
            "2. Subtraction\n",
            "3. Multiplication\n",
            "4. Division\n",
            "5. Square\n",
            "6. Square Root\n",
            "7. Power\n",
            "8. Store Result\n",
            "9. Recall Result\n",
            "10. Quit\n",
            "Enter the number for your choice: 1\n",
            "Enter the first number: 100\n",
            "Enter the second number: 200\n",
            "Result: 300.0\n",
            "Options:\n",
            "1. Addition\n",
            "2. Subtraction\n",
            "3. Multiplication\n",
            "4. Division\n",
            "5. Square\n",
            "6. Square Root\n",
            "7. Power\n",
            "8. Store Result\n",
            "9. Recall Result\n",
            "10. Quit\n",
            "Enter the number for your choice: 3\n",
            "Enter the first number: 10\n",
            "Enter the second number: 5\n",
            "Result: 50.0\n",
            "Options:\n",
            "1. Addition\n",
            "2. Subtraction\n",
            "3. Multiplication\n",
            "4. Division\n",
            "5. Square\n",
            "6. Square Root\n",
            "7. Power\n",
            "8. Store Result\n",
            "9. Recall Result\n",
            "10. Quit\n",
            "Enter the number for your choice: 5\n",
            "Enter a number: 25\n",
            "Result: 625.0\n",
            "Options:\n",
            "1. Addition\n",
            "2. Subtraction\n",
            "3. Multiplication\n",
            "4. Division\n",
            "5. Square\n",
            "6. Square Root\n",
            "7. Power\n",
            "8. Store Result\n",
            "9. Recall Result\n",
            "10. Quit\n",
            "Enter the number for your choice: 10\n"
          ]
        }
      ]
    }
  ]
}