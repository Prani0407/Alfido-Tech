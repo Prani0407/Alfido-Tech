{
  "cells": [
    {
      "cell_type": "markdown",
      "source": [
        "# Create an empty list to store tasks"
      ],
      "metadata": {
        "id": "2hgrgPwZ7xS2"
      }
    },
    {
      "cell_type": "code",
      "source": [
        "tasks = []"
      ],
      "metadata": {
        "id": "rVIWmxca7F7a"
      },
      "execution_count": 2,
      "outputs": []
    },
    {
      "cell_type": "markdown",
      "source": [
        "# Function to add a task"
      ],
      "metadata": {
        "id": "iQA9bs2q710a"
      }
    },
    {
      "cell_type": "code",
      "source": [
        "def add_task():\n",
        "    task_name = input(\"Enter the task name: \")\n",
        "    task_description = input(\"Enter the task description: \")\n",
        "    task_due_date = input(\"Enter the task due date: \")\n",
        "    task_status = \"Incomplete\"\n",
        "\n",
        "    task = {\n",
        "        \"name\": task_name,\n",
        "        \"description\": task_description,\n",
        "        \"due_date\": task_due_date,\n",
        "        \"status\": task_status\n",
        "    }\n",
        "\n",
        "    tasks.append(task)\n",
        "    print(\"Task added: \", task_name)"
      ],
      "metadata": {
        "id": "b-Wdam1R7c50"
      },
      "execution_count": 4,
      "outputs": []
    },
    {
      "cell_type": "markdown",
      "source": [
        "# Function to list tasks"
      ],
      "metadata": {
        "id": "mVTuNXja77I-"
      }
    },
    {
      "cell_type": "code",
      "source": [
        "\n",
        "def list_tasks():\n",
        "    if not tasks:\n",
        "        print(\"No tasks in the to-do list.\")\n",
        "    else:\n",
        "        print(\"To-Do List:\")\n",
        "        for i, task in enumerate(tasks, 1):\n",
        "            print(f\"{i}. Name: {task['name']}\")\n",
        "            print(f\"   Description: {task['description']}\")\n",
        "            print(f\"   Due Date: {task['due_date']}\")\n",
        "            print(f\"   Status: {task['status']}\")\n",
        "            print()"
      ],
      "metadata": {
        "id": "jDmn7veG7WrI"
      },
      "execution_count": 3,
      "outputs": []
    },
    {
      "cell_type": "markdown",
      "source": [
        "# Function to remove a task"
      ],
      "metadata": {
        "id": "yfPTrhsY7_5V"
      }
    },
    {
      "cell_type": "code",
      "source": [
        "def remove_task():\n",
        "    list_tasks()\n",
        "    task_index = int(input(\"Enter the number of the task to remove: \")) - 1\n",
        "\n",
        "    if 0 <= task_index < len(tasks):\n",
        "        removed_task = tasks.pop(task_index)\n",
        "        print(\"Task removed: \", removed_task['name'])\n",
        "    else:\n",
        "        print(\"Invalid task number. No task removed.\")"
      ],
      "metadata": {
        "id": "HLL04CDQ7njl"
      },
      "execution_count": 5,
      "outputs": []
    },
    {
      "cell_type": "markdown",
      "source": [
        "# Main loop"
      ],
      "metadata": {
        "id": "nf8Yca_i8FOu"
      }
    },
    {
      "cell_type": "code",
      "execution_count": 7,
      "metadata": {
        "colab": {
          "base_uri": "https://localhost:8080/"
        },
        "id": "wkynJW0Wipmn",
        "outputId": "9df11a93-5945-4c60-9bd3-56ddc3ac46b3"
      },
      "outputs": [
        {
          "output_type": "stream",
          "name": "stdout",
          "text": [
            "\n",
            "Options:\n",
            "1. Add Task\n",
            "2. List Tasks\n",
            "3. Remove Task\n",
            "4. Quit\n",
            "Enter your choice: 1\n",
            "Enter the task name:  Complete Research Paper\n",
            "Enter the task description:  Finish writing the research paper on climate change and its impact on ecosystems.\n",
            "Enter the task due date: 25-10-2023\n",
            "Task added:   Complete Research Paper\n",
            "\n",
            "Options:\n",
            "1. Add Task\n",
            "2. List Tasks\n",
            "3. Remove Task\n",
            "4. Quit\n",
            "Enter your choice: 1\n",
            "Enter the task name: Grocery Shopping\n",
            "Enter the task description: Buy groceries for the week, including fresh produce and household items\n",
            "Enter the task due date: 26-10-2023\n",
            "Task added:  Grocery Shopping\n",
            "\n",
            "Options:\n",
            "1. Add Task\n",
            "2. List Tasks\n",
            "3. Remove Task\n",
            "4. Quit\n",
            "Enter your choice: 1\n",
            "Enter the task name: Gym Workout\n",
            "Enter the task description: Go to the gym for a cardio and strength training workout.\n",
            "Enter the task due date: 27-10-2023\n",
            "Task added:  Gym Workout\n",
            "\n",
            "Options:\n",
            "1. Add Task\n",
            "2. List Tasks\n",
            "3. Remove Task\n",
            "4. Quit\n",
            "Enter your choice: 1\n",
            "Enter the task name: Finish Project Proposal\n",
            "Enter the task description:  Write a detailed project proposal for the upcoming software development project.\n",
            "Enter the task due date: 30-10-2023\n",
            "Task added:  Finish Project Proposal\n",
            "\n",
            "Options:\n",
            "1. Add Task\n",
            "2. List Tasks\n",
            "3. Remove Task\n",
            "4. Quit\n",
            "Enter your choice: 2\n",
            "To-Do List:\n",
            "1. Name:  Complete Research Paper\n",
            "   Description:  Finish writing the research paper on climate change and its impact on ecosystems.\n",
            "   Due Date: 25-10-2023\n",
            "   Status: Incomplete\n",
            "\n",
            "2. Name: Grocery Shopping\n",
            "   Description: Buy groceries for the week, including fresh produce and household items\n",
            "   Due Date: 26-10-2023\n",
            "   Status: Incomplete\n",
            "\n",
            "3. Name: Gym Workout\n",
            "   Description: Go to the gym for a cardio and strength training workout.\n",
            "   Due Date: 27-10-2023\n",
            "   Status: Incomplete\n",
            "\n",
            "4. Name: Finish Project Proposal\n",
            "   Description:  Write a detailed project proposal for the upcoming software development project.\n",
            "   Due Date: 30-10-2023\n",
            "   Status: Incomplete\n",
            "\n",
            "\n",
            "Options:\n",
            "1. Add Task\n",
            "2. List Tasks\n",
            "3. Remove Task\n",
            "4. Quit\n",
            "Enter your choice: 3\n",
            "To-Do List:\n",
            "1. Name:  Complete Research Paper\n",
            "   Description:  Finish writing the research paper on climate change and its impact on ecosystems.\n",
            "   Due Date: 25-10-2023\n",
            "   Status: Incomplete\n",
            "\n",
            "2. Name: Grocery Shopping\n",
            "   Description: Buy groceries for the week, including fresh produce and household items\n",
            "   Due Date: 26-10-2023\n",
            "   Status: Incomplete\n",
            "\n",
            "3. Name: Gym Workout\n",
            "   Description: Go to the gym for a cardio and strength training workout.\n",
            "   Due Date: 27-10-2023\n",
            "   Status: Incomplete\n",
            "\n",
            "4. Name: Finish Project Proposal\n",
            "   Description:  Write a detailed project proposal for the upcoming software development project.\n",
            "   Due Date: 30-10-2023\n",
            "   Status: Incomplete\n",
            "\n",
            "Enter the number of the task to remove: 4\n",
            "Task removed:  Finish Project Proposal\n",
            "\n",
            "Options:\n",
            "1. Add Task\n",
            "2. List Tasks\n",
            "3. Remove Task\n",
            "4. Quit\n",
            "Enter your choice: 2\n",
            "To-Do List:\n",
            "1. Name:  Complete Research Paper\n",
            "   Description:  Finish writing the research paper on climate change and its impact on ecosystems.\n",
            "   Due Date: 25-10-2023\n",
            "   Status: Incomplete\n",
            "\n",
            "2. Name: Grocery Shopping\n",
            "   Description: Buy groceries for the week, including fresh produce and household items\n",
            "   Due Date: 26-10-2023\n",
            "   Status: Incomplete\n",
            "\n",
            "3. Name: Gym Workout\n",
            "   Description: Go to the gym for a cardio and strength training workout.\n",
            "   Due Date: 27-10-2023\n",
            "   Status: Incomplete\n",
            "\n",
            "\n",
            "Options:\n",
            "1. Add Task\n",
            "2. List Tasks\n",
            "3. Remove Task\n",
            "4. Quit\n",
            "Enter your choice: 4\n",
            "Goodbye!\n"
          ]
        }
      ],
      "source": [
        "while True:\n",
        "    print(\"\\nOptions:\")\n",
        "    print(\"1. Add Task\")\n",
        "    print(\"2. List Tasks\")\n",
        "    print(\"3. Remove Task\")\n",
        "    print(\"4. Quit\")\n",
        "    choice = input(\"Enter your choice: \")\n",
        "\n",
        "    if choice == \"1\":\n",
        "        add_task()\n",
        "    elif choice == \"2\":\n",
        "        list_tasks()\n",
        "    elif choice == \"3\":\n",
        "        remove_task()\n",
        "    elif choice == \"4\":\n",
        "        print(\"Goodbye!\")\n",
        "        break\n",
        "    else:\n",
        "        print(\"Invalid choice. Please select a valid option.\")\n"
      ]
    }
  ],
  "metadata": {
    "colab": {
      "provenance": []
    },
    "kernelspec": {
      "display_name": "Python 3",
      "name": "python3"
    },
    "language_info": {
      "name": "python"
    }
  },
  "nbformat": 4,
  "nbformat_minor": 0
}